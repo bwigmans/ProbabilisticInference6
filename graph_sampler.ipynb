{
 "cells": [
  {
   "cell_type": "markdown",
   "metadata": {},
   "source": [
    "# Importance sampling using our compiler and BN translator "
   ]
  },
  {
   "cell_type": "markdown",
   "metadata": {},
   "source": [
    "This Jupyter's notebook shows our compiler which converts First-order-probabilistic-models (FOPPLs) using Lisp syntax to Bayesian Networks. Importance sampling is then done by sampling from the Bayesian networks."
   ]
  },
  {
   "cell_type": "markdown",
   "metadata": {},
   "source": [
    "1. **FOPPL → AST**  \n",
    "   - **Parsing:** Our code in `foppl_parser.py` handles tokenization via the `FOPPLLexer` class, then constructs an **Abstract Syntax Tree (AST)** using the `FOPPLParser` class.  \n",
    "   - **Why a dedicated parser?**  \n",
    "     - It cleanly separates the syntax from the semantics.  \n",
    "   - **Why AST Representation?** \n",
    "     - The resulting nodes (like `Sample`, `Observe`, `Let`) reside in `ast_nodes.py`. This AST is more convenient to traverse than raw Lisp. Also, it is easier to convert AST to a Bayesian Network (BN).\n",
    "\n",
    "2. **AST → Bayesian Network**  \n",
    "   - **Translation of AST to BN:** Next, in `translator.py`, we convert the AST to a BN in the form of a Python dictionary. \n",
    "   - **Why did we seperate the translator from the parser?**\n",
    "     - We did because then we can test the parser and translator independently before focusing on the inference part."
   ]
  },
  {
   "cell_type": "markdown",
   "metadata": {},
   "source": [
    "### Importance Sampling\n",
    "To execute importance sampling we need to be able to sample from our Bayesian Network graph, we do this as follows:\n",
    "1. We use our **`ImportanceSampler`** class (in `importance_sampling.py`) to draw samples from the network.  \n",
    "2. Each random node is sampled from its corresponding distribution, while observed nodes adjust the log-weight accordingly.  \n",
    "3. After drawing many samples and accumulating weights, we normalize and compute the posterior means."
   ]
  },
  {
   "cell_type": "markdown",
   "metadata": {},
   "source": [
    "## Imports"
   ]
  },
  {
   "cell_type": "code",
   "execution_count": 13,
   "metadata": {},
   "outputs": [],
   "source": [
    "from ast_nodes import If, Constant, Sample, Let, Observe, Variable, Assign, For\n",
    "from translator import Translator\n",
    "from importance_sampling import ImportanceSampler\n",
    "import math\n",
    "from foppl_parser import FOPPLLexer, FOPPLParser\n",
    "import numpy as np\n",
    "import matplotlib.pyplot as plt\n",
    "import scipy.stats as stats  # for the Normal PDF"
   ]
  },
  {
   "cell_type": "markdown",
   "metadata": {},
   "source": [
    "## Tests"
   ]
  },
  {
   "cell_type": "code",
   "execution_count": 25,
   "metadata": {
    "collapsed": false
   },
   "outputs": [
    {
     "name": "stdout",
     "output_type": "stream",
     "text": [
      "Parsed AST:\n",
      "[Sample(x, ('normal', Constant(0.0), Constant(1.0))), Observe(('normal', Variable(x), Constant(2.0)), Constant(0.5))]\n",
      "BN graph:\n",
      "{'const_0': GraphNode(const_0, dist=None, obs=None, parents=[], det_expr=('const', 0.0)), 'const_1': GraphNode(const_1, dist=None, obs=None, parents=[], det_expr=('const', 1.0)), 'normal_2': GraphNode(normal_2, dist=None, obs=None, parents=['const_0', 'const_1'], det_expr=('dist', 'normal', ['const_0', 'const_1'])), 'x': GraphNode(x, dist=('normal_2',), obs=None, parents=['normal_2'], det_expr=None), 'const_3': GraphNode(const_3, dist=None, obs=None, parents=[], det_expr=('const', 2.0)), 'normal_4': GraphNode(normal_4, dist=None, obs=None, parents=['x', 'const_3'], det_expr=('dist', 'normal', ['x', 'const_3'])), 'obs_5': GraphNode(obs_5, dist=('normal_4',), obs=Constant(0.5), parents=['normal_4'], det_expr=None)}\n",
      "Approx. posterior mean of x = 0.088\n"
     ]
    }
   ],
   "source": [
    "# Test Importance Sampling\n",
    "\n",
    "## A simple AST:\n",
    "#    x ~ Normal(0,1)\n",
    "#    observe x ~ Normal(0,1) with obs=0.5\n",
    "# simple_ast_example = [\n",
    "#         Sample(\"x\", (\"normal\", 0.0, 1.0)),\n",
    "#         Observe((\"normal\", Variable(\"x\"), 2.0), 0.5)\n",
    "#     ]\n",
    "\n",
    "# A simple FOPPL program (Lisp-style syntax)\n",
    "simple_foppl = \"\"\"\n",
    "(sample x (normal 0.0 1.0))\n",
    "(observe (normal x 2.0) 0.5)\n",
    "\"\"\"\n",
    "\n",
    "# Step 1: Lexical analysis (tokenization)\n",
    "lexer = FOPPLLexer(simple_foppl)\n",
    "tokens = FOPPLParser(lexer)\n",
    "\n",
    "# Step 2: Parsing the tokens into an AST\n",
    "simple_ast = tokens.parse() \n",
    "print(f'Parsed AST:\\n{simple_ast}')\n",
    "\n",
    "# 2) Translate AST -> Graph\n",
    "translator = Translator()\n",
    "graph = translator.translate_program(simple_ast)\n",
    "print(f'BN graph:\\n{graph}')\n",
    "\n",
    "# 3) Instantiate ImportanceSampler\n",
    "sampler = ImportanceSampler(graph)\n",
    "\n",
    "# 4) Draw multiple samples\n",
    "N = 5000\n",
    "samples = []\n",
    "weights = []\n",
    "\n",
    "for _ in range(N):\n",
    "    env, log_weight = sampler.sample_one()\n",
    "    samples.append(env)\n",
    "    weights.append(math.exp(log_weight))  # store weight in linear scale\n",
    "\n",
    "# 5) Analyze results: e.g. compute weighted mean of x\n",
    "weighted_sum = 0.0\n",
    "total_weight = 0.0\n",
    "for env, w in zip(samples, weights):\n",
    "    weighted_sum += env[\"x\"] * w\n",
    "    total_weight += w\n",
    "posterior_mean_x = weighted_sum / total_weight\n",
    "\n",
    "print(f\"Approx. posterior mean of x = {posterior_mean_x:.3f}\")"
   ]
  },
  {
   "cell_type": "code",
   "execution_count": 10,
   "metadata": {},
   "outputs": [
    {
     "name": "stdout",
     "output_type": "stream",
     "text": [
      "\n",
      "FINAL GRAPH NODES:\n",
      "\n",
      "const_0 -> GraphNode(const_0, dist=None, obs=None, parents=[], det_expr=('const', 0.0))\n",
      "const_1 -> GraphNode(const_1, dist=None, obs=None, parents=[], det_expr=('const', 1.0))\n",
      "normal_2 -> GraphNode(normal_2, dist=None, obs=None, parents=['const_0', 'const_1'], det_expr=('dist', 'normal', ['const_0', 'const_1']))\n",
      "x -> GraphNode(x, dist=('normal_2',), obs=None, parents=['normal_2'], det_expr=None)\n",
      "const_3 -> GraphNode(const_3, dist=None, obs=None, parents=[], det_expr=('const', 0.0))\n",
      "op_>_4 -> GraphNode(op_>_4, dist=None, obs=None, parents=['x', 'const_3'], det_expr=('>', 'x', 'const_3'))\n",
      "const_5 -> GraphNode(const_5, dist=None, obs=None, parents=[], det_expr=('const', 10.0))\n",
      "const_6 -> GraphNode(const_6, dist=None, obs=None, parents=[], det_expr=('const', -5.0))\n",
      "const_7 -> GraphNode(const_7, dist=None, obs=None, parents=[], det_expr=('const', -5.0))\n",
      "op_+_8 -> GraphNode(op_+_8, dist=None, obs=None, parents=['const_6', 'const_7'], det_expr=('+', 'const_6', 'const_7'))\n",
      "if_9 -> GraphNode(if_9, dist=None, obs=None, parents=['op_>_4', 'const_5', 'op_+_8'], det_expr=('if', 'op_>_4', 'const_5', 'op_+_8'))\n",
      "const_10 -> GraphNode(const_10, dist=None, obs=None, parents=[], det_expr=('const', 1.0))\n",
      "normal_11 -> GraphNode(normal_11, dist=None, obs=None, parents=['if_9', 'const_10'], det_expr=('dist', 'normal', ['if_9', 'const_10']))\n",
      "y -> GraphNode(y, dist=('normal_11',), obs=None, parents=['normal_11'], det_expr=None)\n",
      "const_12 -> GraphNode(const_12, dist=None, obs=None, parents=[], det_expr=('const', 1.0))\n",
      "normal_13 -> GraphNode(normal_13, dist=None, obs=None, parents=['y', 'const_12'], det_expr=('dist', 'normal', ['y', 'const_12']))\n",
      "obs_14 -> GraphNode(obs_14, dist=('normal_13',), obs=0.5, parents=['normal_13'], det_expr=None)\n"
     ]
    }
   ],
   "source": [
    "# Test BN translation\n",
    "from ast_nodes import If, Constant, Sample, Let, Observe, Variable, Assign, For\n",
    "from translator import Translator\n",
    "\n",
    "prog = [\n",
    "    Sample(\"x\", ('normal', 0.0, 1.0)),\n",
    "    Let(\"z\",\n",
    "        If(\n",
    "            # condition: x>0.0\n",
    "            ('>', Variable(\"x\"), Constant(0.0)),\n",
    "            Constant(10.0),\n",
    "            ('+', Constant(-5.0), Constant(-5.0))\n",
    "        ),\n",
    "        # body => sample y\n",
    "        Sample(\"y\", ('normal', Variable(\"z\"), 1.0))\n",
    "    ),\n",
    "    Observe(('normal', Variable(\"y\"), 1.0), 0.5)\n",
    "]\n",
    "\n",
    "# We'll define an initial \"acc\" = 0\n",
    "# prog = [\n",
    "#     Assign(\"acc\", Constant(0)),\n",
    "#     Sample(\"x\", (\"normal\", 0.0, 1.0)),\n",
    "#     For(\"i\", 3, [\n",
    "#         Assign(\"acc\", (\"+\", Variable(\"acc\"), Variable(\"i\")))\n",
    "#     ]),\n",
    "#     Observe((\"normal\", Variable(\"x\"), 1.0), 0.5),\n",
    "# ]\n",
    "\n",
    "translator = Translator()\n",
    "graph = translator.translate_program(prog)\n",
    "\n",
    "print(\"\\nFINAL GRAPH NODES:\\n\")\n",
    "for name, node in graph.items():\n",
    "    print(f\"{name} -> {node}\")"
   ]
  },
  {
   "cell_type": "markdown",
   "metadata": {},
   "source": [
    "## Importance sampling for model 1.2"
   ]
  },
  {
   "cell_type": "code",
   "execution_count": 27,
   "metadata": {
    "collapsed": false
   },
   "outputs": [
    {
     "data": {
      "image/png": "[encoded data removed]",
      "text/plain": [
       "<Figure size 1000x600 with 1 Axes>"
      ]
     },
     "metadata": {},
     "output_type": "display_data"
    },
    {
     "name": "stdout",
     "output_type": "stream",
     "text": [
      "Approx. posterior mean of theta = 47.033\n"
     ]
    }
   ],
   "source": [
    "# We need to put the normal distribution far enough into the positive region\n",
    "# since the Poisson distribution is non-negative\n",
    "mu0 = 50        # example prior mean\n",
    "tau2 = 10.0       # example prior variance\n",
    "y_obs = 45\n",
    "\n",
    "program_ast = [\n",
    "    Sample(\"theta\", (\"normal\", mu0, tau2)),\n",
    "    Observe((\"poisson\", Variable(\"theta\")), y_obs)\n",
    "]\n",
    "\n",
    "program =\"\"\"\n",
    "(let [theta (sample (normal mu0 tau2))]\n",
    "  (observe (poisson theta) y_obs)\n",
    "  theta)\n",
    "\"\"\"\n",
    "\n",
    "# # Parse\n",
    "# lexer = FOPPLLexer(program)\n",
    "# tokens = FOPPLParser(lexer)\n",
    "# program_ast = tokens.parse()\n",
    "# print(f'Parsed AST:\\n{program_ast}')\n",
    "\n",
    "# Translate\n",
    "translator = Translator()\n",
    "graph = translator.translate_program(program_ast)\n",
    "sampler = ImportanceSampler(graph)\n",
    "\n",
    "N = 5000\n",
    "samples = []\n",
    "weights = []\n",
    "for i in range(N):\n",
    "    env, log_weight = sampler.sample_one()\n",
    "    samples.append(env)\n",
    "    weights.append(math.exp(log_weight))  # convert log weight to linear scale\n",
    "\n",
    "weighted_sum = 0.0\n",
    "total_weight = 0.0\n",
    "\n",
    "for env, w in zip(samples, weights):\n",
    "    weighted_sum += env[\"theta\"] * w\n",
    "    total_weight += w\n",
    "posterior_mean_theta = weighted_sum / total_weight\n",
    "\n",
    "theta_vals = np.array([env[\"theta\"] for env in samples])\n",
    "weights_array = np.array(weights)\n",
    "\n",
    "plt.figure(figsize=(10, 6))\n",
    "\n",
    "# Plot the weighted histogram of posterior samples\n",
    "counts, bins, _ = plt.hist(theta_vals, bins=50, density=True, weights=weights_array,\n",
    "                         alpha=0.6, label='Inferred Posterior (Histogram)')\n",
    "\n",
    "sigma0 = math.sqrt(tau2)\n",
    "\n",
    "# Create a range of theta values for plotting the prior PDF\n",
    "theta_range = np.linspace(mu0 - 4*sigma0, mu0 + 4*sigma0, 500)\n",
    "\n",
    "# Compute the prior PDF for these theta values\n",
    "prior_pdf = stats.norm.pdf(theta_range, loc=mu0, scale=sigma0)\n",
    "\n",
    "# Plot the prior PDF\n",
    "plt.plot(theta_range, prior_pdf, 'r-', lw=2, label='True Posterior PDF')\n",
    "\n",
    "plt.xlabel('θ')\n",
    "plt.ylabel('Density')\n",
    "plt.title('Posterior Distribution of θ with Prior Overlay')\n",
    "plt.legend()\n",
    "plt.show()\n",
    "\n",
    "print(f\"Approx. posterior mean of theta = {posterior_mean_theta:.3f}\")"
   ]
  },
  {
   "cell_type": "markdown",
   "metadata": {
    "collapsed": false
   },
   "source": [
    "## Importance sampling for model 1.7"
   ]
  },
  {
   "cell_type": "code",
   "execution_count": 6,
   "metadata": {
    "collapsed": false
   },
   "outputs": [
    {
     "ename": "ValueError",
     "evalue": "Unknown expression type: mu + tau * eta_{i}",
     "output_type": "error",
     "traceback": [
      "\u001b[1;31m---------------------------------------------------------------------------\u001b[0m",
      "\u001b[1;31mValueError\u001b[0m                                Traceback (most recent call last)",
      "Cell \u001b[1;32mIn[6], line 28\u001b[0m\n\u001b[0;32m     26\u001b[0m \u001b[38;5;66;03m# Translate and sample\u001b[39;00m\n\u001b[0;32m     27\u001b[0m translator \u001b[38;5;241m=\u001b[39m Translator()\n\u001b[1;32m---> 28\u001b[0m graph \u001b[38;5;241m=\u001b[39m \u001b[43mtranslator\u001b[49m\u001b[38;5;241;43m.\u001b[39;49m\u001b[43mtranslate_program\u001b[49m\u001b[43m(\u001b[49m\u001b[43mprogram_ast\u001b[49m\u001b[43m)\u001b[49m\n\u001b[0;32m     29\u001b[0m sampler \u001b[38;5;241m=\u001b[39m ImportanceSampler(graph)\n\u001b[0;32m     31\u001b[0m N \u001b[38;5;241m=\u001b[39m \u001b[38;5;241m5000\u001b[39m  \u001b[38;5;66;03m# Number of samples\u001b[39;00m\n",
      "File \u001b[1;32mc:\\Users\\bramw\\Documents\\Huiswerk\\prob inference\\assignment\\ProbabilisticInference6\\translator.py:37\u001b[0m, in \u001b[0;36mTranslator.translate_program\u001b[1;34m(self, prog_ast)\u001b[0m\n\u001b[0;32m     35\u001b[0m \u001b[38;5;28;01mif\u001b[39;00m \u001b[38;5;28misinstance\u001b[39m(prog_ast, \u001b[38;5;28mlist\u001b[39m):\n\u001b[0;32m     36\u001b[0m     \u001b[38;5;28;01mfor\u001b[39;00m node \u001b[38;5;129;01min\u001b[39;00m prog_ast:\n\u001b[1;32m---> 37\u001b[0m         \u001b[38;5;28;43mself\u001b[39;49m\u001b[38;5;241;43m.\u001b[39;49m\u001b[43m_translate_expr\u001b[49m\u001b[43m(\u001b[49m\u001b[43mnode\u001b[49m\u001b[43m)\u001b[49m\n\u001b[0;32m     38\u001b[0m \u001b[38;5;28;01melse\u001b[39;00m:\n\u001b[0;32m     39\u001b[0m     \u001b[38;5;28mself\u001b[39m\u001b[38;5;241m.\u001b[39m_translate_expr(prog_ast)\n",
      "File \u001b[1;32mc:\\Users\\bramw\\Documents\\Huiswerk\\prob inference\\assignment\\ProbabilisticInference6\\translator.py:139\u001b[0m, in \u001b[0;36mTranslator._translate_expr\u001b[1;34m(self, expr)\u001b[0m\n\u001b[0;32m    136\u001b[0m     \u001b[38;5;28;01mreturn\u001b[39;00m obs_name\n\u001b[0;32m    138\u001b[0m \u001b[38;5;28;01melif\u001b[39;00m \u001b[38;5;28misinstance\u001b[39m(expr, Assign):\n\u001b[1;32m--> 139\u001b[0m     rhs_name \u001b[38;5;241m=\u001b[39m \u001b[38;5;28;43mself\u001b[39;49m\u001b[38;5;241;43m.\u001b[39;49m\u001b[43m_translate_expr\u001b[49m\u001b[43m(\u001b[49m\u001b[43mexpr\u001b[49m\u001b[38;5;241;43m.\u001b[39;49m\u001b[43mexpr\u001b[49m\u001b[43m)\u001b[49m\n\u001b[0;32m    140\u001b[0m     \u001b[38;5;28mself\u001b[39m\u001b[38;5;241m.\u001b[39mgraph[expr\u001b[38;5;241m.\u001b[39mvar_name] \u001b[38;5;241m=\u001b[39m GraphNode(\n\u001b[0;32m    141\u001b[0m         name\u001b[38;5;241m=\u001b[39mexpr\u001b[38;5;241m.\u001b[39mvar_name,\n\u001b[0;32m    142\u001b[0m         deterministic_expr\u001b[38;5;241m=\u001b[39m(\u001b[38;5;124m'\u001b[39m\u001b[38;5;124mid\u001b[39m\u001b[38;5;124m'\u001b[39m, rhs_name),\n\u001b[0;32m    143\u001b[0m         parents\u001b[38;5;241m=\u001b[39m[rhs_name]\n\u001b[0;32m    144\u001b[0m     )\n\u001b[0;32m    145\u001b[0m     \u001b[38;5;28mself\u001b[39m\u001b[38;5;241m.\u001b[39menv[expr\u001b[38;5;241m.\u001b[39mvar_name] \u001b[38;5;241m=\u001b[39m expr\u001b[38;5;241m.\u001b[39mvar_name\n",
      "File \u001b[1;32mc:\\Users\\bramw\\Documents\\Huiswerk\\prob inference\\assignment\\ProbabilisticInference6\\translator.py:176\u001b[0m, in \u001b[0;36mTranslator._translate_expr\u001b[1;34m(self, expr)\u001b[0m\n\u001b[0;32m    173\u001b[0m         \u001b[38;5;28;01mreturn\u001b[39;00m op_node_name\n\u001b[0;32m    175\u001b[0m \u001b[38;5;28;01melse\u001b[39;00m:\n\u001b[1;32m--> 176\u001b[0m     \u001b[38;5;28;01mraise\u001b[39;00m \u001b[38;5;167;01mValueError\u001b[39;00m(\u001b[38;5;124mf\u001b[39m\u001b[38;5;124m\"\u001b[39m\u001b[38;5;124mUnknown expression type: \u001b[39m\u001b[38;5;132;01m{\u001b[39;00mexpr\u001b[38;5;132;01m}\u001b[39;00m\u001b[38;5;124m\"\u001b[39m)\n",
      "\u001b[1;31mValueError\u001b[0m: Unknown expression type: mu + tau * eta_{i}"
     ]
    }
   ],
   "source": [
    "alpha = 1.0\n",
    "beta_val = 1.0\n",
    "p = 0.6 # probability of success\n",
    "# Generate observations from a Bernoulli distribution\n",
    "observations = np.random.binomial(1, p, size=500).astype(bool)\n",
    "\n",
    "program_ast = [\n",
    "    Sample(\"theta\", (\"beta\", alpha, beta_val)),\n",
    "    Observe((\"poisson\", Variable(\"theta\")), y_obs)\n",
    "]\n",
    "for y in observations:\n",
    "    program_ast.append(Observe((\"bernoulli\", Variable(\"theta\")), y))\n",
    "\n",
    "\n",
    "# program = \"\"\"\n",
    "# (let [theta (sample (beta 1.0 1.0))]\n",
    "#   (observe (bernoulli theta) false)\n",
    "#   (observe (bernoulli theta) false)\n",
    "#   (observe (bernoulli theta) true)\n",
    "#   ...\n",
    "#   theta)\n",
    "# \"\"\"\n",
    "\n",
    "# # Parse\n",
    "# lexer = FOPPLLexer(program)\n",
    "# tokens = FOPPLParser(lexer)\n",
    "# program_ast = tokens.parse()\n",
    "# print(f'Parsed AST:\\n{program_ast}')\n",
    "\n",
    "# Translate\n",
    "translator = Translator()\n",
    "graph = translator.translate_program(program_ast)\n",
    "sampler = ImportanceSampler(graph)\n",
    "\n",
    "N = 5000\n",
    "samples = []\n",
    "weights = []\n",
    "for i in range(N):\n",
    "    env, log_weight = sampler.sample_one()\n",
    "    samples.append(env)\n",
    "    weights.append(math.exp(log_weight))  # convert log weight to linear scale\n",
    "\n",
    "weighted_sum = 0.0\n",
    "total_weight = 0.0\n",
    "\n",
    "for env, w in zip(samples, weights):\n",
    "    weighted_sum += env[\"theta\"] * w\n",
    "    total_weight += w\n",
    "posterior_mean_theta = weighted_sum / total_weight\n",
    "\n",
    "# Extract theta values and weights from samples for plotting\n",
    "theta_vals = np.array([env[\"theta\"] for env in samples])\n",
    "weights_array = np.array(weights)\n",
    "\n",
    "# Plot inferred posterior histogram with weighted samples\n",
    "plt.figure(figsize=(10, 6))\n",
    "counts, bins, _ = plt.hist(theta_vals, bins=50, density=True, weights=weights_array,\n",
    "                         alpha=0.6, label='Inferred Posterior (Histogram)')\n",
    "\n",
    "# Compute the true posterior parameters analytically\n",
    "successes = sum(1 for y in observations if y)\n",
    "failures = len(observations) - successes\n",
    "true_alpha = alpha + successes\n",
    "true_beta = beta_val + failures\n",
    "\n",
    "# Define a range for theta values within [0, 1]\n",
    "theta_range = np.linspace(0, 1, 500)\n",
    "\n",
    "# Compute the analytic (true) posterior PDF\n",
    "true_posterior_pdf = stats.beta.pdf(theta_range, true_alpha, true_beta)\n",
    "\n",
    "# Plot the analytic true posterior PDF\n",
    "plt.plot(theta_range, true_posterior_pdf, 'r-', lw=2, label='True Posterior PDF')\n",
    "\n",
    "plt.xlabel('θ')\n",
    "plt.ylabel('Density')\n",
    "plt.title('Inferred vs. True Posterior Distribution of θ')\n",
    "plt.legend()\n",
    "plt.show()\n",
    "\n",
    "print(f\"Approx. posterior mean of theta = {posterior_mean_theta:.3f}\")"
   ]
  },
  {
   "cell_type": "markdown",
   "metadata": {},
   "source": [
    "Importance Sampling eight school problem\n"
   ]
  },
  {
   "cell_type": "code",
   "execution_count": 14,
   "metadata": {},
   "outputs": [
    {
     "ename": "NotImplementedError",
     "evalue": "Distribution half-cauchy not supported.",
     "output_type": "error",
     "traceback": [
      "\u001b[1;31m---------------------------------------------------------------------------\u001b[0m",
      "\u001b[1;31mNotImplementedError\u001b[0m                       Traceback (most recent call last)",
      "Cell \u001b[1;32mIn[14], line 42\u001b[0m\n\u001b[0;32m     40\u001b[0m weights \u001b[38;5;241m=\u001b[39m []\n\u001b[0;32m     41\u001b[0m \u001b[38;5;28;01mfor\u001b[39;00m _ \u001b[38;5;129;01min\u001b[39;00m \u001b[38;5;28mrange\u001b[39m(N):\n\u001b[1;32m---> 42\u001b[0m     env, log_weight \u001b[38;5;241m=\u001b[39m \u001b[43msampler\u001b[49m\u001b[38;5;241;43m.\u001b[39;49m\u001b[43msample_one\u001b[49m\u001b[43m(\u001b[49m\u001b[43m)\u001b[49m\n\u001b[0;32m     43\u001b[0m     samples\u001b[38;5;241m.\u001b[39mappend(env)\n\u001b[0;32m     44\u001b[0m     weights\u001b[38;5;241m.\u001b[39mappend(math\u001b[38;5;241m.\u001b[39mexp(log_weight))  \u001b[38;5;66;03m# Convert log weight to linear scale\u001b[39;00m\n",
      "File \u001b[1;32mc:\\Users\\bramw\\Documents\\Huiswerk\\prob inference\\assignment\\ProbabilisticInference6\\importance_sampling.py:51\u001b[0m, in \u001b[0;36mImportanceSampler.sample_one\u001b[1;34m(self)\u001b[0m\n\u001b[0;32m     47\u001b[0m param_values \u001b[38;5;241m=\u001b[39m [env[x] \u001b[38;5;28;01mfor\u001b[39;00m x \u001b[38;5;129;01min\u001b[39;00m param_list]\n\u001b[0;32m     49\u001b[0m \u001b[38;5;28;01mif\u001b[39;00m node\u001b[38;5;241m.\u001b[39mobserved_value \u001b[38;5;129;01mis\u001b[39;00m \u001b[38;5;28;01mNone\u001b[39;00m:\n\u001b[0;32m     50\u001b[0m     \u001b[38;5;66;03m# sample\u001b[39;00m\n\u001b[1;32m---> 51\u001b[0m     sample_val, lp \u001b[38;5;241m=\u001b[39m \u001b[38;5;28;43mself\u001b[39;49m\u001b[38;5;241;43m.\u001b[39;49m\u001b[43msample_from_distribution\u001b[49m\u001b[43m(\u001b[49m\u001b[43mdist_type\u001b[49m\u001b[43m,\u001b[49m\u001b[43m \u001b[49m\u001b[43mparam_values\u001b[49m\u001b[43m)\u001b[49m\n\u001b[0;32m     52\u001b[0m     env[var_name] \u001b[38;5;241m=\u001b[39m sample_val\n\u001b[0;32m     53\u001b[0m     \u001b[38;5;66;03m# If you're doing prior-sampling, you might not add to log_weight.\u001b[39;00m\n\u001b[0;32m     54\u001b[0m     \u001b[38;5;66;03m# If you're doing proper IS, you'd incorporate the proposal ratio.\u001b[39;00m\n\u001b[0;32m     55\u001b[0m \u001b[38;5;28;01melse\u001b[39;00m:\n\u001b[0;32m     56\u001b[0m     \u001b[38;5;66;03m# observe\u001b[39;00m\n",
      "File \u001b[1;32mc:\\Users\\bramw\\Documents\\Huiswerk\\prob inference\\assignment\\ProbabilisticInference6\\importance_sampling.py:127\u001b[0m, in \u001b[0;36mImportanceSampler.sample_from_distribution\u001b[1;34m(self, dist_type, params)\u001b[0m\n\u001b[0;32m    125\u001b[0m     \u001b[38;5;28;01mreturn\u001b[39;00m val, lp\n\u001b[0;32m    126\u001b[0m \u001b[38;5;28;01melse\u001b[39;00m:\n\u001b[1;32m--> 127\u001b[0m     \u001b[38;5;28;01mraise\u001b[39;00m \u001b[38;5;167;01mNotImplementedError\u001b[39;00m(\u001b[38;5;124mf\u001b[39m\u001b[38;5;124m\"\u001b[39m\u001b[38;5;124mDistribution \u001b[39m\u001b[38;5;132;01m{\u001b[39;00mdist_type\u001b[38;5;132;01m}\u001b[39;00m\u001b[38;5;124m not supported.\u001b[39m\u001b[38;5;124m\"\u001b[39m)\n",
      "\u001b[1;31mNotImplementedError\u001b[0m: Distribution half-cauchy not supported."
     ]
    }
   ],
   "source": [
    "import numpy as np\n",
    "import matplotlib.pyplot as plt\n",
    "import scipy.stats as stats\n",
    "import math\n",
    "\n",
    "# Constants and data\n",
    "J = 8  # Number of schools\n",
    "y_obs = np.array([28, 8, -3, 7, -1, 1, 18, 12])  # Observed effects\n",
    "sigma = np.array([15, 10, 16, 11, 9, 11, 10, 18])  # Known standard errors\n",
    "\n",
    "# Prior parameters\n",
    "mu_prior_mean = 0\n",
    "mu_prior_sd = 10\n",
    "tau_prior_scale = 25  # Half-Cauchy scale\n",
    "\n",
    "# Program AST representation\n",
    "prog = [\n",
    "    Sample(\"mu\", (\"normal\", mu_prior_mean, mu_prior_sd)),\n",
    "    Sample(\"tau\", (\"half-cauchy\", tau_prior_scale)),\n",
    "]\n",
    "\n",
    "for i in range(J):\n",
    "    # Sample eta_i from normal(0, 1)\n",
    "    prog.append(Sample(f\"eta_{i}\", ('normal', 0.0, 1.0)))\n",
    "    \n",
    "    # Directly sample y_i based on theta_i = mu + tau * eta_i\n",
    "    prog.append(Observe(\n",
    "        ('normal', \n",
    "         ('+', Variable('mu'), ('*', Variable('tau'), Variable(f'eta_{i}'))),  # theta_i = mu + tau * eta_i\n",
    "         sigma[i]**2), y_obs[i])  # Likelihood of y_i given theta_i and sigma_i^2\n",
    ")\n",
    "\n",
    "# Translate and sample\n",
    "translator = Translator()\n",
    "graph = translator.translate_program(program_ast)\n",
    "sampler = ImportanceSampler(graph)\n",
    "\n",
    "N = 5000  # Number of samples\n",
    "samples = []\n",
    "weights = []\n",
    "for _ in range(N):\n",
    "    env, log_weight = sampler.sample_one()\n",
    "    samples.append(env)\n",
    "    weights.append(math.exp(log_weight))  # Convert log weight to linear scale\n",
    "\n",
    "# Compute posterior means\n",
    "weighted_sums = {key: 0.0 for key in [\"mu\", \"tau\"] + [f\"theta_{i}\" for i in range(J)]}\n",
    "total_weight = 0.0\n",
    "for env, w in zip(samples, weights):\n",
    "    for key in weighted_sums:\n",
    "        weighted_sums[key] += env[key] * w\n",
    "    total_weight += w\n",
    "posterior_means = {key: weighted_sums[key] / total_weight for key in weighted_sums}\n",
    "\n",
    "# Plotting posterior distributions for mu and tau\n",
    "mu_vals = np.array([env[\"mu\"] for env in samples])\n",
    "tau_vals = np.array([env[\"tau\"] for env in samples])\n",
    "weights_array = np.array(weights)\n",
    "\n",
    "plt.figure(figsize=(14, 6))\n",
    "\n",
    "# Posterior histogram for mu\n",
    "plt.subplot(1, 2, 1)\n",
    "plt.hist(mu_vals, bins=50, density=True, weights=weights_array, alpha=0.6, label=\"Posterior (Histogram)\")\n",
    "mu_range = np.linspace(-30, 30, 500)\n",
    "prior_pdf_mu = stats.norm.pdf(mu_range, loc=mu_prior_mean, scale=mu_prior_sd)\n",
    "plt.plot(mu_range, prior_pdf_mu, 'r-', lw=2, label='Prior PDF')\n",
    "plt.title(\"Posterior Distribution of μ\")\n",
    "plt.xlabel(\"μ\")\n",
    "plt.ylabel(\"Density\")\n",
    "plt.legend()\n",
    "\n",
    "# Posterior histogram for tau\n",
    "plt.subplot(1, 2, 2)\n",
    "plt.hist(tau_vals, bins=50, density=True, weights=weights_array, alpha=0.6, label=\"Posterior (Histogram)\")\n",
    "tau_range = np.linspace(0, 50, 500)\n",
    "prior_pdf_tau = stats.halfcauchy.pdf(tau_range, loc=0, scale=tau_prior_scale)\n",
    "plt.plot(tau_range, prior_pdf_tau, 'r-', lw=2, label='Prior PDF')\n",
    "plt.title(\"Posterior Distribution of τ\")\n",
    "plt.xlabel(\"τ\")\n",
    "plt.ylabel(\"Density\")\n",
    "plt.legend()\n",
    "\n",
    "plt.tight_layout()\n",
    "plt.show()\n",
    "\n",
    "# Results\n",
    "print(\"Posterior means:\")\n",
    "for key, value in posterior_means.items():\n",
    "    print(f\"{key} = {value:.3f}\")\n"
   ]
  },
  {
   "cell_type": "code",
   "execution_count": null,
   "metadata": {},
   "outputs": [],
   "source": []
  }
 ],
 "metadata": {
  "kernelspec": {
   "display_name": "base",
   "language": "python",
   "name": "python3"
  },
  "language_info": {
   "codemirror_mode": {
    "name": "ipython",
    "version": 3
   },
   "file_extension": ".py",
   "mimetype": "text/x-python",
   "name": "python",
   "nbconvert_exporter": "python",
   "pygments_lexer": "ipython3",
   "version": "3.10.13"
  }
 },
 "nbformat": 4,
 "nbformat_minor": 2
}
